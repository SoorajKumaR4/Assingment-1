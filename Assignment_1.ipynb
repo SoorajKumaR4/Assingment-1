{
 "cells": [
  {
   "cell_type": "markdown",
   "id": "c02368e2",
   "metadata": {},
   "source": [
    "Q. In the below elements which of them are values or an expression? eg:- values can be\n",
    "integer or string and expressions will be mathematical operators.\n",
    "\n",
    "A.\n",
    "\n",
    "\n",
    "'*' is expression\n",
    "\n",
    "'hello' is value\n",
    "\n",
    "-87.8 is value\n",
    "\n",
    "- is expression\n",
    "\n",
    "/ is expression\n",
    "\n",
    "+ is expression\n",
    "\n",
    "6 is a value\n"
   ]
  },
  {
   "cell_type": "markdown",
   "id": "06a103b9",
   "metadata": {},
   "source": [
    "2. What is the difference between string and variable?\n",
    "\n",
    "A. String is anything you assign to a variable with single or double quotes, whereas variable is an identifier in memory used to store data. "
   ]
  },
  {
   "cell_type": "markdown",
   "id": "eaf4c979",
   "metadata": {},
   "source": [
    "3. Describe three different data types.\n",
    "A.\n",
    "1.  String data type:  String datatype is a collection of characters put inside single or double quotes/\n",
    "2.  Integer data type:  Integer data type are numeric data types.  Integer datatypes can be numeric, floating, even complex numbers.\n",
    "3.  List data type:  List data type is created by placing [] brackets.  We can place numeric, complex, text, etc data in a list"
   ]
  },
  {
   "cell_type": "markdown",
   "id": "f878736e",
   "metadata": {},
   "source": [
    "4. What is an expression made up of? What do all expressions do?\n",
    "\n",
    "A.  Expression is mathematical operations.  We can solve mathematical problems using expressions."
   ]
  },
  {
   "cell_type": "markdown",
   "id": "760ad225",
   "metadata": {},
   "source": [
    "5. What is the difference between an expression and a statement?\n",
    "\n",
    "A.  Expressions are matematical operations whereas statements are instructions written in code."
   ]
  },
  {
   "cell_type": "markdown",
   "id": "0ac1ac66",
   "metadata": {},
   "source": [
    "6. After running the following code, what does the variable bacon contain?\n",
    "bacon = 22\n",
    "bacon + 1\n",
    "\n",
    "A:  23"
   ]
  },
  {
   "cell_type": "markdown",
   "id": "49781019",
   "metadata": {},
   "source": [
    "7. What should the values of the following two terms be?\n",
    "'spam';'spamspam'\n",
    "'spam'* 3\n",
    "\n",
    "A. 'spamspamspam'"
   ]
  },
  {
   "cell_type": "markdown",
   "id": "4cbbd395",
   "metadata": {},
   "source": [
    "8. Why is eggs a valid variable name while 100 is invalid?\n",
    "\n",
    "A.  We cannot assign numbers as variables because variable names cannot be values. "
   ]
  },
  {
   "cell_type": "markdown",
   "id": "407bdac2",
   "metadata": {},
   "source": [
    "9. What three functions can be used to get the integer, floating-point number, or string\n",
    "version of a value?\n",
    "\n",
    "A.  int() , float() , and str( ) functions."
   ]
  },
  {
   "cell_type": "markdown",
   "id": "bcde7775",
   "metadata": {},
   "source": [
    "10. Why does this expression cause an error? How can you fix it\n",
    "'I have eaten' + 99 + 'burritos.'\n",
    "\n",
    "A. We cannot concat string to numbers.  We can fix this error by covering number to string."
   ]
  }
 ],
 "metadata": {
  "kernelspec": {
   "display_name": "Python 3 (ipykernel)",
   "language": "python",
   "name": "python3"
  },
  "language_info": {
   "codemirror_mode": {
    "name": "ipython",
    "version": 3
   },
   "file_extension": ".py",
   "mimetype": "text/x-python",
   "name": "python",
   "nbconvert_exporter": "python",
   "pygments_lexer": "ipython3",
   "version": "3.9.7"
  }
 },
 "nbformat": 4,
 "nbformat_minor": 5
}
